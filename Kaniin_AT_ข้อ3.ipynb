{
 "cells": [
  {
   "cell_type": "code",
   "execution_count": 1,
   "id": "a30e1679",
   "metadata": {},
   "outputs": [],
   "source": [
    "import pandas as pd\n",
    "from pandas_datareader import data\n",
    "import seaborn as sns\n",
    "import matplotlib.pyplot as plt"
   ]
  },
  {
   "cell_type": "code",
   "execution_count": 2,
   "id": "6499a56d",
   "metadata": {},
   "outputs": [
    {
     "data": {
      "text/html": [
       "<div>\n",
       "<style scoped>\n",
       "    .dataframe tbody tr th:only-of-type {\n",
       "        vertical-align: middle;\n",
       "    }\n",
       "\n",
       "    .dataframe tbody tr th {\n",
       "        vertical-align: top;\n",
       "    }\n",
       "\n",
       "    .dataframe thead th {\n",
       "        text-align: right;\n",
       "    }\n",
       "</style>\n",
       "<table border=\"1\" class=\"dataframe\">\n",
       "  <thead>\n",
       "    <tr style=\"text-align: right;\">\n",
       "      <th></th>\n",
       "      <th>High</th>\n",
       "      <th>Low</th>\n",
       "      <th>Open</th>\n",
       "      <th>Close</th>\n",
       "      <th>Volume</th>\n",
       "      <th>Adj Close</th>\n",
       "    </tr>\n",
       "    <tr>\n",
       "      <th>Date</th>\n",
       "      <th></th>\n",
       "      <th></th>\n",
       "      <th></th>\n",
       "      <th></th>\n",
       "      <th></th>\n",
       "      <th></th>\n",
       "    </tr>\n",
       "  </thead>\n",
       "  <tbody>\n",
       "    <tr>\n",
       "      <th>2020-12-31</th>\n",
       "      <td>277.089996</td>\n",
       "      <td>269.809998</td>\n",
       "      <td>272.000000</td>\n",
       "      <td>273.160004</td>\n",
       "      <td>12900400</td>\n",
       "      <td>273.160004</td>\n",
       "    </tr>\n",
       "    <tr>\n",
       "      <th>2021-01-04</th>\n",
       "      <td>275.000000</td>\n",
       "      <td>265.200012</td>\n",
       "      <td>274.779999</td>\n",
       "      <td>268.940002</td>\n",
       "      <td>15106100</td>\n",
       "      <td>268.940002</td>\n",
       "    </tr>\n",
       "    <tr>\n",
       "      <th>2021-01-05</th>\n",
       "      <td>272.399994</td>\n",
       "      <td>268.209991</td>\n",
       "      <td>268.290009</td>\n",
       "      <td>270.970001</td>\n",
       "      <td>9871600</td>\n",
       "      <td>270.970001</td>\n",
       "    </tr>\n",
       "    <tr>\n",
       "      <th>2021-01-06</th>\n",
       "      <td>267.750000</td>\n",
       "      <td>260.010010</td>\n",
       "      <td>262.000000</td>\n",
       "      <td>263.309998</td>\n",
       "      <td>24354100</td>\n",
       "      <td>263.309998</td>\n",
       "    </tr>\n",
       "    <tr>\n",
       "      <th>2021-01-07</th>\n",
       "      <td>271.609985</td>\n",
       "      <td>264.779999</td>\n",
       "      <td>265.899994</td>\n",
       "      <td>268.739990</td>\n",
       "      <td>15789800</td>\n",
       "      <td>268.739990</td>\n",
       "    </tr>\n",
       "  </tbody>\n",
       "</table>\n",
       "</div>"
      ],
      "text/plain": [
       "                  High         Low        Open       Close    Volume  \\\n",
       "Date                                                                   \n",
       "2020-12-31  277.089996  269.809998  272.000000  273.160004  12900400   \n",
       "2021-01-04  275.000000  265.200012  274.779999  268.940002  15106100   \n",
       "2021-01-05  272.399994  268.209991  268.290009  270.970001   9871600   \n",
       "2021-01-06  267.750000  260.010010  262.000000  263.309998  24354100   \n",
       "2021-01-07  271.609985  264.779999  265.899994  268.739990  15789800   \n",
       "\n",
       "             Adj Close  \n",
       "Date                    \n",
       "2020-12-31  273.160004  \n",
       "2021-01-04  268.940002  \n",
       "2021-01-05  270.970001  \n",
       "2021-01-06  263.309998  \n",
       "2021-01-07  268.739990  "
      ]
     },
     "execution_count": 2,
     "metadata": {},
     "output_type": "execute_result"
    }
   ],
   "source": [
    "df = data.DataReader('fb', data_source=\"yahoo\", start='2021-01-01', end='2021-12-24')\n",
    "df.head()"
   ]
  },
  {
   "cell_type": "code",
   "execution_count": 3,
   "id": "85578b59",
   "metadata": {},
   "outputs": [
    {
     "name": "stdout",
     "output_type": "stream",
     "text": [
      "จุดสุงสุดของแต่ละวัน\n"
     ]
    },
    {
     "data": {
      "text/plain": [
       "Date\n",
       "2020-12-31    277.089996\n",
       "2021-01-04    275.000000\n",
       "2021-01-05    272.399994\n",
       "2021-01-06    267.750000\n",
       "2021-01-07    271.609985\n",
       "                 ...    \n",
       "2021-12-17    337.109985\n",
       "2021-12-20    329.899994\n",
       "2021-12-21    336.000000\n",
       "2021-12-22    334.510010\n",
       "2021-12-23    336.670013\n",
       "Name: High, Length: 248, dtype: float64"
      ]
     },
     "execution_count": 3,
     "metadata": {},
     "output_type": "execute_result"
    },
    {
     "data": {
      "image/png": "[encoded data removed]",
      "text/plain": [
       "<Figure size 432x288 with 1 Axes>"
      ]
     },
     "metadata": {
      "needs_background": "light"
     },
     "output_type": "display_data"
    }
   ],
   "source": [
    "sns.lineplot(x=df.index, y='High', data=df);\n",
    "print(\"จุดสุงสุดของแต่ละวัน\")\n",
    "df['High']#จุดสุงสุดของแต่ละวัน"
   ]
  },
  {
   "cell_type": "code",
   "execution_count": 4,
   "id": "8cc66eef",
   "metadata": {},
   "outputs": [
    {
     "name": "stdout",
     "output_type": "stream",
     "text": [
      "มูลหุ้นค่าเฉลี่ยสูงสุด:  324.3447575722971\n"
     ]
    }
   ],
   "source": [
    "high = 0\n",
    "for i in range(len(df['High'])):\n",
    "    high = df['High'][i] + high\n",
    "Avg_high = high/248\n",
    "print(\"มูลหุ้นค่าเฉลี่ยสูงสุด: \",Avg_high)"
   ]
  },
  {
   "cell_type": "code",
   "execution_count": 5,
   "id": "2743f021",
   "metadata": {},
   "outputs": [
    {
     "name": "stdout",
     "output_type": "stream",
     "text": [
      "จุดต่ำสุดของแต่ละวัน\n"
     ]
    },
    {
     "data": {
      "text/plain": [
       "Date\n",
       "2020-12-31    269.809998\n",
       "2021-01-04    265.200012\n",
       "2021-01-05    268.209991\n",
       "2021-01-06    260.010010\n",
       "2021-01-07    264.779999\n",
       "                 ...    \n",
       "2021-12-17    330.750000\n",
       "2021-12-20    322.529999\n",
       "2021-12-21    323.750000\n",
       "2021-12-22    328.260010\n",
       "2021-12-23    328.359985\n",
       "Name: Low, Length: 248, dtype: float64"
      ]
     },
     "execution_count": 5,
     "metadata": {},
     "output_type": "execute_result"
    },
    {
     "data": {
      "image/png": "[encoded data removed]",
      "text/plain": [
       "<Figure size 432x288 with 1 Axes>"
      ]
     },
     "metadata": {
      "needs_background": "light"
     },
     "output_type": "display_data"
    }
   ],
   "source": [
    "sns.lineplot(x=df.index, y='Low', data=df);\n",
    "print(\"จุดต่ำสุดของแต่ละวัน\")\n",
    "df['Low']#จุดต่ำสุดของแต่ละวัน"
   ]
  },
  {
   "cell_type": "code",
   "execution_count": 6,
   "id": "f1116ff4",
   "metadata": {},
   "outputs": [
    {
     "name": "stdout",
     "output_type": "stream",
     "text": [
      "ค่าเฉลี่ยหุ้นต่ำสุด:  316.743184551116\n"
     ]
    }
   ],
   "source": [
    "Low = 0\n",
    "for i in range(len(df['Low'])):\n",
    "    Low = df['Low'][i]+Low\n",
    "Avg_Low = Low/248\n",
    "\n",
    "print(\"ค่าเฉลี่ยหุ้นต่ำสุด: \",Avg_Low)"
   ]
  },
  {
   "cell_type": "code",
   "execution_count": null,
   "id": "86c0a7e1",
   "metadata": {},
   "outputs": [],
   "source": []
  }
 ],
 "metadata": {
  "kernelspec": {
   "display_name": "Python 3",
   "language": "python",
   "name": "python3"
  },
  "language_info": {
   "codemirror_mode": {
    "name": "ipython",
    "version": 3
   },
   "file_extension": ".py",
   "mimetype": "text/x-python",
   "name": "python",
   "nbconvert_exporter": "python",
   "pygments_lexer": "ipython3",
   "version": "3.8.8"
  }
 },
 "nbformat": 4,
 "nbformat_minor": 5
}
